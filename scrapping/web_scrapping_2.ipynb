{
 "cells": [
  {
   "cell_type": "code",
   "execution_count": 2,
   "metadata": {},
   "outputs": [],
   "source": [
    "from selenium import webdriver\n",
    "from webdriver_manager.chrome import ChromeDriverManager\n",
    "from selenium.webdriver.common.keys import Keys\n"
   ]
  },
  {
   "cell_type": "code",
   "execution_count": 8,
   "metadata": {},
   "outputs": [
    {
     "name": "stderr",
     "output_type": "stream",
     "text": [
      "\n",
      "\n",
      "====== WebDriver manager ======\n",
      "Current google-chrome version is 95.0.4638\n",
      "Get LATEST chromedriver version for 95.0.4638 google-chrome\n",
      "Driver [C:\\Users\\asus\\.wdm\\drivers\\chromedriver\\win32\\95.0.4638.69\\chromedriver.exe] found in cache\n",
      "C:\\Users\\asus\\AppData\\Local\\Temp/ipykernel_980/1503906442.py:1: DeprecationWarning: executable_path has been deprecated, please pass in a Service object\n",
      "  driver = webdriver.Chrome(ChromeDriverManager().install())\n"
     ]
    }
   ],
   "source": [
    "driver = webdriver.Chrome(ChromeDriverManager().install())"
   ]
  },
  {
   "cell_type": "markdown",
   "metadata": {},
   "source": [
    "\n"
   ]
  },
  {
   "cell_type": "markdown",
   "metadata": {},
   "source": [
    "# flipkart"
   ]
  },
  {
   "cell_type": "code",
   "execution_count": 9,
   "metadata": {},
   "outputs": [],
   "source": [
    "def get_fkrt_addr(query = 'bags' ,start_pos = 1):\n",
    "    url = 'https://www.flipkart.com/search'\n",
    "    param1 = f'q={query}'                       #item to search\n",
    "    param2 = f'page={start_pos}'          #starting position\n",
    "    return f'{url}?{param1}&{param2}'\n",
    "\n"
   ]
  },
  {
   "cell_type": "code",
   "execution_count": 10,
   "metadata": {},
   "outputs": [],
   "source": [
    "driver.get(get_fkrt_addr('watches'))"
   ]
  },
  {
   "cell_type": "code",
   "execution_count": 11,
   "metadata": {},
   "outputs": [
    {
     "name": "stderr",
     "output_type": "stream",
     "text": [
      "C:\\Users\\asus\\AppData\\Local\\Temp/ipykernel_980/2191359594.py:2: DeprecationWarning: find_elements_by_* commands are deprecated. Please use find_elements() instead\n",
      "  headings = driver.find_elements_by_css_selector('div._2WkVRV')\n"
     ]
    },
    {
     "name": "stdout",
     "output_type": "stream",
     "text": [
      "CASADO\n",
      "LOIS CARON\n",
      "Blue Pearl\n",
      "SKMEI\n",
      "CRAB\n",
      "Rizzly\n",
      "hrnt\n",
      "SWADESI STUFF\n",
      "XN XEEZOS\n",
      "LOIS CARON\n",
      "ALOGO\n",
      "FOSSIL\n",
      "hala\n",
      "ANALOGUE\n",
      "HMTr\n",
      "Fastrack\n",
      "Rizzly\n",
      "YOUTH CLUB\n",
      "SKMEI\n",
      "ANALOGUE\n",
      "Happy Khajana\n",
      "WHITE STONE\n",
      "hala\n",
      "EDDY HAGER\n",
      "Fogg\n",
      "EDDY HAGER\n",
      "SKMEI\n",
      "LOIS CARON\n",
      "FOXTER\n",
      "EDDY HAGER\n",
      "hala\n",
      "POLO HUNTER\n",
      "LIMESTONE\n",
      "Varni Fashion\n",
      "LIMESTONE\n",
      "TIMEWEAR\n",
      "LIMESTONE\n",
      "Rage Enterprise\n",
      "MIKADO\n",
      "Carson\n"
     ]
    }
   ],
   "source": [
    "# just a test\n",
    "headings = driver.find_elements_by_css_selector('div._2WkVRV')\n",
    "for h in headings:print(h.text)"
   ]
  },
  {
   "cell_type": "code",
   "execution_count": 12,
   "metadata": {},
   "outputs": [
    {
     "data": {
      "text/plain": [
       "40"
      ]
     },
     "execution_count": 12,
     "metadata": {},
     "output_type": "execute_result"
    }
   ],
   "source": [
    "len(headings)\n"
   ]
  },
  {
   "cell_type": "code",
   "execution_count": 13,
   "metadata": {},
   "outputs": [],
   "source": [
    "# actual code\n",
    "\n",
    "def extract_page_data(driver):\n",
    "    data = []\n",
    "    cards = driver.find_elements_by_css_selector('div._1xHGtK._373qXS')\n",
    "    if len(cards)> 0:\n",
    "        for item in cards:\n",
    "            data.append(dict(\n",
    "                brand = item.find_element_by_css_selector('div._2WkVRV').text,\n",
    "                title = item.find_element_by_css_selector('a.IRpwTa').get_attribute('title'),\n",
    "                price = item.find_element_by_css_selector('div._30jeq3').text,\n",
    "            ))\n",
    "    return data"
   ]
  },
  {
   "cell_type": "code",
   "execution_count": 14,
   "metadata": {},
   "outputs": [],
   "source": [
    "def get_flipkart_data(search = 'bags',pos = 1,):\n",
    "    all_data= [] \n",
    "    while True:\n",
    "        addr = get_fkrt_addr(search, pos)\n",
    "        driver.get(addr)\n",
    "        data = extract_page_data(driver)\n",
    "        if len(data):\n",
    "            all_data.extend(data)\n",
    "            pos += 1\n",
    "        else:\n",
    "            break\n",
    "    return all_data"
   ]
  }
 ],
 "metadata": {
  "interpreter": {
   "hash": "06cb67651ce969e244f20f184e33f4ddb1106793adfe07cf7ddc131c95c4012f"
  },
  "kernelspec": {
   "display_name": "Python 3.9.2 64-bit",
   "language": "python",
   "name": "python3"
  },
  "language_info": {
   "codemirror_mode": {
    "name": "ipython",
    "version": 3
   },
   "file_extension": ".py",
   "mimetype": "text/x-python",
   "name": "python",
   "nbconvert_exporter": "python",
   "pygments_lexer": "ipython3",
   "version": "3.9.2"
  },
  "orig_nbformat": 4
 },
 "nbformat": 4,
 "nbformat_minor": 2
}
